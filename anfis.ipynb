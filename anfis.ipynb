{
 "cells": [
  {
   "cell_type": "code",
   "execution_count": 9,
   "metadata": {},
   "outputs": [],
   "source": [
    "import numpy\n",
    "import pandas as pd\n",
    "import anfis.anfis as anfis\n",
    "import anfis.membership as membership\n",
    "from sklearn.model_selection import train_test_split"
   ]
  },
  {
   "cell_type": "code",
   "execution_count": 13,
   "metadata": {},
   "outputs": [
    {
     "name": "stdout",
     "output_type": "stream",
     "text": [
      "(11310, 8)\n"
     ]
    }
   ],
   "source": [
    "data_frame = pd.read_csv('final_dataset.csv', delimiter='\\t')\n",
    "test, train = train_test_split(data_frame, test_size=0.6, shuffle=True)\n",
    "\n",
    "print(train.shape)\n",
    "\n",
    "X = train[['g1','g2','g3','g4','g5','g6','g7']]\n",
    "Y = train[['spam']]"
   ]
  },
  {
   "cell_type": "code",
   "execution_count": 12,
   "metadata": {},
   "outputs": [
    {
     "ename": "KeyboardInterrupt",
     "evalue": "",
     "output_type": "error",
     "traceback": [
      "\u001b[0;31m---------------------------------------------------------------------------\u001b[0m",
      "\u001b[0;31mKeyboardInterrupt\u001b[0m                         Traceback (most recent call last)",
      "\u001b[0;32m<ipython-input-12-e7f86b9d2cfc>\u001b[0m in \u001b[0;36m<module>\u001b[0;34m()\u001b[0m\n\u001b[1;32m     47\u001b[0m \u001b[0mmfc\u001b[0m \u001b[0;34m=\u001b[0m \u001b[0mmembership\u001b[0m\u001b[0;34m.\u001b[0m\u001b[0mmembershipfunction\u001b[0m\u001b[0;34m.\u001b[0m\u001b[0mMemFuncs\u001b[0m\u001b[0;34m(\u001b[0m\u001b[0mmf\u001b[0m\u001b[0;34m)\u001b[0m\u001b[0;34m\u001b[0m\u001b[0m\n\u001b[1;32m     48\u001b[0m \u001b[0manf\u001b[0m \u001b[0;34m=\u001b[0m \u001b[0manfis\u001b[0m\u001b[0;34m.\u001b[0m\u001b[0mANFIS\u001b[0m\u001b[0;34m(\u001b[0m\u001b[0mX\u001b[0m\u001b[0;34m,\u001b[0m \u001b[0mY\u001b[0m\u001b[0;34m,\u001b[0m \u001b[0mmfc\u001b[0m\u001b[0;34m)\u001b[0m\u001b[0;34m\u001b[0m\u001b[0m\n\u001b[0;32m---> 49\u001b[0;31m \u001b[0manf\u001b[0m\u001b[0;34m.\u001b[0m\u001b[0mtrainHybridJangOffLine\u001b[0m\u001b[0;34m(\u001b[0m\u001b[0mepochs\u001b[0m\u001b[0;34m=\u001b[0m\u001b[0;36m20\u001b[0m\u001b[0;34m)\u001b[0m\u001b[0;34m\u001b[0m\u001b[0m\n\u001b[0m\u001b[1;32m     50\u001b[0m \u001b[0;32mprint\u001b[0m \u001b[0mround\u001b[0m\u001b[0;34m(\u001b[0m\u001b[0manf\u001b[0m\u001b[0;34m.\u001b[0m\u001b[0mconsequents\u001b[0m\u001b[0;34m[\u001b[0m\u001b[0;34m-\u001b[0m\u001b[0;36m1\u001b[0m\u001b[0;34m]\u001b[0m\u001b[0;34m[\u001b[0m\u001b[0;36m0\u001b[0m\u001b[0;34m]\u001b[0m\u001b[0;34m,\u001b[0m\u001b[0;36m6\u001b[0m\u001b[0;34m)\u001b[0m\u001b[0;34m\u001b[0m\u001b[0m\n\u001b[1;32m     51\u001b[0m \u001b[0;32mprint\u001b[0m \u001b[0mround\u001b[0m\u001b[0;34m(\u001b[0m\u001b[0manf\u001b[0m\u001b[0;34m.\u001b[0m\u001b[0mconsequents\u001b[0m\u001b[0;34m[\u001b[0m\u001b[0;34m-\u001b[0m\u001b[0;36m2\u001b[0m\u001b[0;34m]\u001b[0m\u001b[0;34m[\u001b[0m\u001b[0;36m0\u001b[0m\u001b[0;34m]\u001b[0m\u001b[0;34m,\u001b[0m\u001b[0;36m6\u001b[0m\u001b[0;34m)\u001b[0m\u001b[0;34m\u001b[0m\u001b[0m\n",
      "\u001b[0;32m/Users/stevecortesrodriguez/Library/Python/2.7/lib/python/site-packages/anfis/anfis.pyc\u001b[0m in \u001b[0;36mtrainHybridJangOffLine\u001b[0;34m(self, epochs, tolerance, initialGamma, k)\u001b[0m\n\u001b[1;32m     64\u001b[0m \u001b[0;34m\u001b[0m\u001b[0m\n\u001b[1;32m     65\u001b[0m             \u001b[0;31m#layer four: forward pass\u001b[0m\u001b[0;34m\u001b[0m\u001b[0;34m\u001b[0m\u001b[0m\n\u001b[0;32m---> 66\u001b[0;31m             \u001b[0;34m[\u001b[0m\u001b[0mlayerFour\u001b[0m\u001b[0;34m,\u001b[0m \u001b[0mwSum\u001b[0m\u001b[0;34m,\u001b[0m \u001b[0mw\u001b[0m\u001b[0;34m]\u001b[0m \u001b[0;34m=\u001b[0m \u001b[0mforwardHalfPass\u001b[0m\u001b[0;34m(\u001b[0m\u001b[0mself\u001b[0m\u001b[0;34m,\u001b[0m \u001b[0mself\u001b[0m\u001b[0;34m.\u001b[0m\u001b[0mX\u001b[0m\u001b[0;34m)\u001b[0m\u001b[0;34m\u001b[0m\u001b[0m\n\u001b[0m\u001b[1;32m     67\u001b[0m \u001b[0;34m\u001b[0m\u001b[0m\n\u001b[1;32m     68\u001b[0m             \u001b[0;31m#layer five: least squares estimate\u001b[0m\u001b[0;34m\u001b[0m\u001b[0;34m\u001b[0m\u001b[0m\n",
      "\u001b[0;32m/Users/stevecortesrodriguez/Library/Python/2.7/lib/python/site-packages/anfis/anfis.pyc\u001b[0m in \u001b[0;36mforwardHalfPass\u001b[0;34m(ANFISObj, Xs)\u001b[0m\n\u001b[1;32m    196\u001b[0m         \u001b[0mlayerThree\u001b[0m \u001b[0;34m=\u001b[0m \u001b[0mlayerTwo\u001b[0m\u001b[0;34m/\u001b[0m\u001b[0mwSum\u001b[0m\u001b[0;34m[\u001b[0m\u001b[0mpattern\u001b[0m\u001b[0;34m]\u001b[0m\u001b[0;34m\u001b[0m\u001b[0m\n\u001b[1;32m    197\u001b[0m         \u001b[0mrowHolder\u001b[0m \u001b[0;34m=\u001b[0m \u001b[0mnp\u001b[0m\u001b[0;34m.\u001b[0m\u001b[0mconcatenate\u001b[0m\u001b[0;34m(\u001b[0m\u001b[0;34m[\u001b[0m\u001b[0mx\u001b[0m\u001b[0;34m*\u001b[0m\u001b[0mnp\u001b[0m\u001b[0;34m.\u001b[0m\u001b[0mappend\u001b[0m\u001b[0;34m(\u001b[0m\u001b[0mXs\u001b[0m\u001b[0;34m[\u001b[0m\u001b[0mpattern\u001b[0m\u001b[0;34m,\u001b[0m\u001b[0;34m:\u001b[0m\u001b[0;34m]\u001b[0m\u001b[0;34m,\u001b[0m\u001b[0;36m1\u001b[0m\u001b[0;34m)\u001b[0m \u001b[0;32mfor\u001b[0m \u001b[0mx\u001b[0m \u001b[0;32min\u001b[0m \u001b[0mlayerThree\u001b[0m\u001b[0;34m]\u001b[0m\u001b[0;34m)\u001b[0m\u001b[0;34m\u001b[0m\u001b[0m\n\u001b[0;32m--> 198\u001b[0;31m         \u001b[0mlayerFour\u001b[0m \u001b[0;34m=\u001b[0m \u001b[0mnp\u001b[0m\u001b[0;34m.\u001b[0m\u001b[0mappend\u001b[0m\u001b[0;34m(\u001b[0m\u001b[0mlayerFour\u001b[0m\u001b[0;34m,\u001b[0m\u001b[0mrowHolder\u001b[0m\u001b[0;34m)\u001b[0m\u001b[0;34m\u001b[0m\u001b[0m\n\u001b[0m\u001b[1;32m    199\u001b[0m \u001b[0;34m\u001b[0m\u001b[0m\n\u001b[1;32m    200\u001b[0m     \u001b[0mw\u001b[0m \u001b[0;34m=\u001b[0m \u001b[0mw\u001b[0m\u001b[0;34m.\u001b[0m\u001b[0mT\u001b[0m\u001b[0;34m\u001b[0m\u001b[0m\n",
      "\u001b[0;32m/usr/local/lib/python2.7/site-packages/numpy/lib/function_base.pyc\u001b[0m in \u001b[0;36mappend\u001b[0;34m(arr, values, axis)\u001b[0m\n\u001b[1;32m   4692\u001b[0m         \u001b[0mvalues\u001b[0m \u001b[0;34m=\u001b[0m \u001b[0mravel\u001b[0m\u001b[0;34m(\u001b[0m\u001b[0mvalues\u001b[0m\u001b[0;34m)\u001b[0m\u001b[0;34m\u001b[0m\u001b[0m\n\u001b[1;32m   4693\u001b[0m         \u001b[0maxis\u001b[0m \u001b[0;34m=\u001b[0m \u001b[0marr\u001b[0m\u001b[0;34m.\u001b[0m\u001b[0mndim\u001b[0m\u001b[0;34m-\u001b[0m\u001b[0;36m1\u001b[0m\u001b[0;34m\u001b[0m\u001b[0m\n\u001b[0;32m-> 4694\u001b[0;31m     \u001b[0;32mreturn\u001b[0m \u001b[0mconcatenate\u001b[0m\u001b[0;34m(\u001b[0m\u001b[0;34m(\u001b[0m\u001b[0marr\u001b[0m\u001b[0;34m,\u001b[0m \u001b[0mvalues\u001b[0m\u001b[0;34m)\u001b[0m\u001b[0;34m,\u001b[0m \u001b[0maxis\u001b[0m\u001b[0;34m=\u001b[0m\u001b[0maxis\u001b[0m\u001b[0;34m)\u001b[0m\u001b[0;34m\u001b[0m\u001b[0m\n\u001b[0m\u001b[1;32m   4695\u001b[0m \u001b[0;34m\u001b[0m\u001b[0m\n\u001b[1;32m   4696\u001b[0m \u001b[0;34m\u001b[0m\u001b[0m\n",
      "\u001b[0;31mKeyboardInterrupt\u001b[0m: "
     ]
    }
   ],
   "source": [
    "mf = [\n",
    "        [\n",
    "            ['gaussmf',{'mean':0.,'sigma':1.}],\n",
    "            ['gaussmf',{'mean':-1.,'sigma':2.}],\n",
    "            ['gaussmf',{'mean':-4.,'sigma':10.}],\n",
    "            ['gaussmf',{'mean':-7.,'sigma':7.}]\n",
    "        ],\n",
    "        [\n",
    "            ['gaussmf',{'mean':1.,'sigma':2.}],\n",
    "            ['gaussmf',{'mean':2.,'sigma':3.}],\n",
    "            ['gaussmf',{'mean':-2.,'sigma':10.}],\n",
    "            ['gaussmf',{'mean':-10.5,'sigma':5.}]\n",
    "        ],\n",
    "        [\n",
    "            ['gaussmf',{'mean':1.,'sigma':2.}],\n",
    "            ['gaussmf',{'mean':2.,'sigma':3.}],\n",
    "            ['gaussmf',{'mean':-2.,'sigma':10.}],\n",
    "            ['gaussmf',{'mean':-10.5,'sigma':5.}]\n",
    "        ],\n",
    "        [\n",
    "            ['gaussmf',{'mean':1.,'sigma':2.}],\n",
    "            ['gaussmf',{'mean':2.,'sigma':3.}],\n",
    "            ['gaussmf',{'mean':-2.,'sigma':10.}],\n",
    "            ['gaussmf',{'mean':-10.5,'sigma':5.}]\n",
    "        ],\n",
    "        [\n",
    "            ['gaussmf',{'mean':1.,'sigma':2.}],\n",
    "            ['gaussmf',{'mean':2.,'sigma':3.}],\n",
    "            ['gaussmf',{'mean':-2.,'sigma':10.}],\n",
    "            ['gaussmf',{'mean':-10.5,'sigma':5.}]\n",
    "        ],\n",
    "        [\n",
    "            ['gaussmf',{'mean':1.,'sigma':2.}],\n",
    "            ['gaussmf',{'mean':2.,'sigma':3.}],\n",
    "            ['gaussmf',{'mean':-2.,'sigma':10.}],\n",
    "            ['gaussmf',{'mean':-10.5,'sigma':5.}]\n",
    "        ],\n",
    "        [\n",
    "            ['gaussmf',{'mean':1.,'sigma':2.}],\n",
    "            ['gaussmf',{'mean':2.,'sigma':3.}],\n",
    "            ['gaussmf',{'mean':-2.,'sigma':10.}],\n",
    "            ['gaussmf',{'mean':-10.5,'sigma':5.}]\n",
    "        ]\n",
    "]\n",
    "\n",
    "\n",
    "mfc = membership.membershipfunction.MemFuncs(mf)\n",
    "anf = anfis.ANFIS(X, Y, mfc)\n",
    "anf.trainHybridJangOffLine(epochs=20)\n",
    "print round(anf.consequents[-1][0],6)\n",
    "print round(anf.consequents[-2][0],6)\n",
    "print round(anf.fittedValues[9][0],6)\n",
    "if round(anf.consequents[-1][0],6) == -5.275538 and round(anf.consequents[-2][0],6) == -1.990703 and round(anf.fittedValues[9][0],6) == 0.002249:\n",
    "\tprint 'test is good'\n",
    "anf.plotErrors()\n",
    "anf.plotResults()"
   ]
  },
  {
   "cell_type": "code",
   "execution_count": null,
   "metadata": {},
   "outputs": [],
   "source": []
  }
 ],
 "metadata": {
  "kernelspec": {
   "display_name": "Python 3",
   "language": "python",
   "name": "python3"
  },
  "language_info": {
   "codemirror_mode": {
    "name": "ipython",
    "version": 3
   },
   "file_extension": ".py",
   "mimetype": "text/x-python",
   "name": "python",
   "nbconvert_exporter": "python",
   "pygments_lexer": "ipython3",
   "version": "3.7.0"
  }
 },
 "nbformat": 4,
 "nbformat_minor": 2
}
